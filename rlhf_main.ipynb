{
 "cells": [
  {
   "cell_type": "markdown",
   "metadata": {},
   "source": [
    "### 0. Set-up"
   ]
  },
  {
   "cell_type": "code",
   "execution_count": 1,
   "metadata": {},
   "outputs": [
    {
     "name": "stderr",
     "output_type": "stream",
     "text": [
      "/home/sabri/Anaconda3/envs/sycamore/lib/python3.9/site-packages/tqdm/auto.py:21: TqdmWarning: IProgress not found. Please update jupyter and ipywidgets. See https://ipywidgets.readthedocs.io/en/stable/user_install.html\n",
      "  from .autonotebook import tqdm as notebook_tqdm\n"
     ]
    }
   ],
   "source": [
    "# imports\n",
    "# bridge env (Gabriel's)\n",
    "import copy\n",
    "import time\n",
    "import os\n",
    "import wandb\n",
    "import numpy as np\n",
    "import pickle\n",
    "from discrete_blocks import discrete_block as Block\n",
    "from relative_single_agent import SACSupervisorSparse,generous_reward,punitive_reward,modular_reward\n",
    "from discrete_simulator import DiscreteSimulator as Sim, Transition\n",
    "import discrete_graphics as gr\n",
    "\n",
    "# # rlhf\n",
    "# import random\n",
    "# from imitation.algorithms import preference_comparisons\n",
    "# from imitation.rewards.reward_nets import BasicRewardNet\n",
    "# from imitation.util.networks import RunningNorm\n",
    "# from imitation.util.util import make_vec_env\n",
    "# from imitation.policies.base import FeedForward32Policy, NormalizeFeaturesExtractor\n",
    "# import gymnasium as gym\n",
    "# from stable_baselines3 import PPO\n",
    "# import numpy as np"
   ]
  },
  {
   "cell_type": "code",
   "execution_count": 2,
   "metadata": {},
   "outputs": [
    {
     "name": "stdout",
     "output_type": "stream",
     "text": [
      "env: \"WANDB_NOTEBOOK_NAME\"=\"rlhf_main.ipynb\"\n"
     ]
    }
   ],
   "source": [
    "# constants\n",
    "USE_WANDB = False\n",
    "%env \"WANDB_NOTEBOOK_NAME\" \"rlhf_main.ipynb\""
   ]
  },
  {
   "cell_type": "code",
   "execution_count": 3,
   "metadata": {},
   "outputs": [],
   "source": [
    "# blocks\n",
    "hexagon = Block([[1,0,0],[1,1,1],[1,1,0],[0,2,1],[0,1,0],[0,1,1]],muc=0.5)\n",
    "linkr = Block([[0,0,0],[0,1,1],[1,0,0],[1,0,1],[1,1,1],[0,1,0]],muc=0.5) \n",
    "linkl = Block([[0,0,0],[0,1,1],[1,0,0],[0,1,0],[0,0,1],[-1,1,1]],muc=0.5) \n",
    "linkh = Block([[0,0,0],[0,1,1],[1,0,0],[-1,2,1],[0,1,0],[0,2,1]],muc=0.5)\n",
    "#target = Block([[0,0,1],[1,0,1]])\n",
    "target = Block([[0,0,1]])"
   ]
  },
  {
   "cell_type": "code",
   "execution_count": 4,
   "metadata": {},
   "outputs": [],
   "source": [
    "# config\n",
    "config = {'train_n_episodes':100,\n",
    "            'train_l_buffer':200,\n",
    "            'ep_batch_size':32,\n",
    "            'ep_use_mask':True,\n",
    "            'agent_discount_f':0.1, # 1-gamma\n",
    "            'agent_last_only':True,\n",
    "            'reward': 'modular',\n",
    "            'torch_device':'cpu',\n",
    "            'SEnc_n_channels':64,\n",
    "            'SEnc_n_internal_layer':2,\n",
    "            'SEnc_stride':1,\n",
    "            'SEnc_order_insensitive':True,\n",
    "            'SAC_n_fc_layer':3,\n",
    "            'SAC_n_neurons':128,\n",
    "            'SAC_batch_norm':True,\n",
    "            'Q_duel':True,\n",
    "            'opt_lr':1e-4,\n",
    "            'opt_pol_over_val': 1,\n",
    "            'opt_tau': 5e-4,\n",
    "            'opt_weight_decay':0.0001,\n",
    "            'opt_exploration_factor':0.001,\n",
    "            'agent_exp_strat':'softmax',\n",
    "            'agent_epsilon':0.05, # not needed in sac\n",
    "            'opt_max_norm': 2,\n",
    "            'opt_target_entropy':1.8,\n",
    "            'opt_value_clip':False,\n",
    "            'opt_entropy_penalty':False,\n",
    "            'opt_Q_reduction': 'min',\n",
    "            'V_optimistic':False,\n",
    "            'reward_failure':-1,\n",
    "            'reward_action':{'Ph': -0.2, 'L':-0.1},\n",
    "            'reward_closer':0.4,\n",
    "            'reward_nsides': 0.1,\n",
    "            'reward_success':1,\n",
    "            'reward_opposite_sides':0,\n",
    "            'opt_lower_bound_Vt':-2,\n",
    "            'gap_range':[2,6]\n",
    "            }"
   ]
  },
  {
   "cell_type": "code",
   "execution_count": 5,
   "metadata": {},
   "outputs": [],
   "source": [
    "# Create Gym (env + agent)\n",
    "from single_agent_gym import ReplayDiscreteGymSupervisor\n",
    "\n",
    "gym = ReplayDiscreteGymSupervisor(config,\n",
    "              agent_type=SACSupervisorSparse,\n",
    "              use_wandb=USE_WANDB,\n",
    "              actions= ['Ph'], # place-hold only necessary action\n",
    "              block_type=[hexagon],\n",
    "              random_targets='random_gap', \n",
    "              targets_loc=[[2,0],[6,0]], \n",
    "              n_robots=2, \n",
    "              max_blocks = 10,\n",
    "              targets=[target]*2,\n",
    "              max_interfaces = 50,\n",
    "              log_freq = 5,\n",
    "              maxs = [9,6]) # grid size"
   ]
  },
  {
   "cell_type": "code",
   "execution_count": 6,
   "metadata": {},
   "outputs": [],
   "source": [
    "# Create Reward Model\n",
    "from rlhf_reward_model import RewardLinear\n",
    "\n",
    "reward_model = RewardLinear()"
   ]
  },
  {
   "cell_type": "code",
   "execution_count": 7,
   "metadata": {},
   "outputs": [],
   "source": [
    "# Create Fragmenter\n",
    "from rlhf_fragmenter import RandomFragmenter\n",
    "\n",
    "fragmenter = RandomFragmenter()"
   ]
  },
  {
   "cell_type": "code",
   "execution_count": 8,
   "metadata": {},
   "outputs": [],
   "source": [
    "# Create Preference Gatherer (human/synthetic)\n",
    "from rlhf_preference_gatherer import SyntheticPreferenceGatherer\n",
    "\n",
    "gatherer = SyntheticPreferenceGatherer(config)"
   ]
  },
  {
   "cell_type": "code",
   "execution_count": 9,
   "metadata": {},
   "outputs": [],
   "source": [
    "# Create Preference Model\n",
    "from rlhf_preference_model import PreferenceModel\n",
    "\n",
    "preference_model = PreferenceModel(reward_model)"
   ]
  },
  {
   "cell_type": "code",
   "execution_count": 11,
   "metadata": {},
   "outputs": [],
   "source": [
    "# Create Reward Trainer\n",
    "from rlhf_reward_trainer import LinearRewardTrainer\n",
    "\n",
    "reward_trainer = LinearRewardTrainer(preference_model)"
   ]
  },
  {
   "cell_type": "code",
   "execution_count": 13,
   "metadata": {},
   "outputs": [],
   "source": [
    "# Create Preference Comparisons, the main interface\n",
    "from rlhf_preference_comparisons import PreferenceComparisons\n",
    "\n",
    "pref_comparisons = PreferenceComparisons(\n",
    "    gym,\n",
    "    reward_model,\n",
    "    num_iterations=5,  # Set to 60 for better performance\n",
    "    fragmenter=fragmenter,\n",
    "    preference_gatherer=gatherer,\n",
    "    reward_trainer=reward_trainer,\n",
    "    transition_oversampling=1,\n",
    "    initial_comparison_frac=0.1,\n",
    "    initial_epoch_multiplier=4,\n",
    "    query_schedule=\"hyperbolic\",\n",
    ")"
   ]
  },
  {
   "cell_type": "code",
   "execution_count": 1,
   "metadata": {},
   "outputs": [
    {
     "ename": "NameError",
     "evalue": "name 'np' is not defined",
     "output_type": "error",
     "traceback": [
      "\u001b[0;31m---------------------------------------------------------------------------\u001b[0m",
      "\u001b[0;31mNameError\u001b[0m                                 Traceback (most recent call last)",
      "\u001b[1;32m/home/sabri/Projects/SycamoreProject/mySycamore/rlhf_main.ipynb Cell 13\u001b[0m line \u001b[0;36m2\n\u001b[1;32m      <a href='vscode-notebook-cell:/home/sabri/Projects/SycamoreProject/mySycamore/rlhf_main.ipynb#W6sZmlsZQ%3D%3D?line=0'>1</a>\u001b[0m \u001b[39m# Original code\u001b[39;00m\n\u001b[0;32m----> <a href='vscode-notebook-cell:/home/sabri/Projects/SycamoreProject/mySycamore/rlhf_main.ipynb#W6sZmlsZQ%3D%3D?line=1'>2</a>\u001b[0m rng \u001b[39m=\u001b[39m np\u001b[39m.\u001b[39mrandom\u001b[39m.\u001b[39mdefault_rng(\u001b[39m0\u001b[39m)\n\u001b[1;32m      <a href='vscode-notebook-cell:/home/sabri/Projects/SycamoreProject/mySycamore/rlhf_main.ipynb#W6sZmlsZQ%3D%3D?line=3'>4</a>\u001b[0m venv \u001b[39m=\u001b[39m make_vec_env(\u001b[39m\"\u001b[39m\u001b[39mPendulum-v1\u001b[39m\u001b[39m\"\u001b[39m, rng\u001b[39m=\u001b[39mrng)\n\u001b[1;32m      <a href='vscode-notebook-cell:/home/sabri/Projects/SycamoreProject/mySycamore/rlhf_main.ipynb#W6sZmlsZQ%3D%3D?line=5'>6</a>\u001b[0m reward_net \u001b[39m=\u001b[39m BasicRewardNet(\n\u001b[1;32m      <a href='vscode-notebook-cell:/home/sabri/Projects/SycamoreProject/mySycamore/rlhf_main.ipynb#W6sZmlsZQ%3D%3D?line=6'>7</a>\u001b[0m     venv\u001b[39m.\u001b[39mobservation_space, venv\u001b[39m.\u001b[39maction_space, normalize_input_layer\u001b[39m=\u001b[39mRunningNorm\n\u001b[1;32m      <a href='vscode-notebook-cell:/home/sabri/Projects/SycamoreProject/mySycamore/rlhf_main.ipynb#W6sZmlsZQ%3D%3D?line=7'>8</a>\u001b[0m )\n",
      "\u001b[0;31mNameError\u001b[0m: name 'np' is not defined"
     ]
    }
   ],
   "source": [
    "# Original init code\n",
    "rng = np.random.default_rng(0)\n",
    "\n",
    "venv = make_vec_env(\"Pendulum-v1\", rng=rng)\n",
    "\n",
    "reward_net = BasicRewardNet(\n",
    "    venv.observation_space, venv.action_space, normalize_input_layer=RunningNorm\n",
    ")\n",
    "\n",
    "fragmenter = preference_comparisons.RandomFragmenter(\n",
    "    warning_threshold=0,\n",
    "    rng=rng,\n",
    ")\n",
    "gatherer = preference_comparisons.SyntheticGatherer(rng=rng)\n",
    "preference_model = preference_comparisons.PreferenceModel(reward_net)\n",
    "reward_trainer = preference_comparisons.BasicRewardTrainer(\n",
    "    preference_model=preference_model,\n",
    "    loss=preference_comparisons.CrossEntropyRewardLoss(),\n",
    "    epochs=3,\n",
    "    rng=rng,\n",
    ")\n",
    "\n",
    "\n",
    "# Several hyperparameters (reward_epochs, ppo_clip_range, ppo_ent_coef,\n",
    "# ppo_gae_lambda, ppo_n_epochs, discount_factor, use_sde, sde_sample_freq,\n",
    "# ppo_lr, exploration_frac, num_iterations, initial_comparison_frac,\n",
    "# initial_epoch_multiplier, query_schedule) used in this example have been\n",
    "# approximately fine-tuned to reach a reasonable level of performance.\n",
    "agent = PPO(\n",
    "    policy=FeedForward32Policy,\n",
    "    policy_kwargs=dict(\n",
    "        features_extractor_class=NormalizeFeaturesExtractor,\n",
    "        features_extractor_kwargs=dict(normalize_class=RunningNorm),\n",
    "    ),\n",
    "    env=venv,\n",
    "    seed=0,\n",
    "    n_steps=2048 // venv.num_envs,\n",
    "    batch_size=64,\n",
    "    ent_coef=0.01,\n",
    "    learning_rate=2e-3,\n",
    "    clip_range=0.1,\n",
    "    gae_lambda=0.95,\n",
    "    gamma=0.97,\n",
    "    n_epochs=10,\n",
    ")\n",
    "\n",
    "trajectory_generator = preference_comparisons.AgentTrainer(\n",
    "    algorithm=agent,\n",
    "    reward_fn=reward_net,\n",
    "    venv=venv,\n",
    "    exploration_frac=0.05,\n",
    "    rng=rng,\n",
    ")\n",
    "\n",
    "pref_comparisons = preference_comparisons.PreferenceComparisons(\n",
    "    trajectory_generator,\n",
    "    reward_net,\n",
    "    num_iterations=5,  # Set to 60 for better performance\n",
    "    fragmenter=fragmenter,\n",
    "    preference_gatherer=gatherer,\n",
    "    reward_trainer=reward_trainer,\n",
    "    fragment_length=100,\n",
    "    transition_oversampling=1,\n",
    "    initial_comparison_frac=0.1,\n",
    "    allow_variable_horizon=False,\n",
    "    initial_epoch_multiplier=4,\n",
    "    query_schedule=\"hyperbolic\",\n",
    ")"
   ]
  },
  {
   "cell_type": "markdown",
   "metadata": {},
   "source": [
    "### 1. Reward Model Training"
   ]
  },
  {
   "cell_type": "code",
   "execution_count": 15,
   "metadata": {},
   "outputs": [
    {
     "name": "stdout",
     "output_type": "stream",
     "text": [
      "Query schedule: [20, 51, 41, 34, 29, 25]\n",
      "Collecting 40 trajectories\n",
      "Creating fragment pairs\n",
      "Gathering preferences\n"
     ]
    },
    {
     "ename": "TypeError",
     "evalue": "'NoneType' object is not iterable",
     "output_type": "error",
     "traceback": [
      "\u001b[0;31m---------------------------------------------------------------------------\u001b[0m",
      "\u001b[0;31mTypeError\u001b[0m                                 Traceback (most recent call last)",
      "\u001b[1;32m/home/sabri/Projects/SycamoreProject/mySycamore/rlhf_main.ipynb Cell 15\u001b[0m line \u001b[0;36m1\n\u001b[0;32m----> <a href='vscode-notebook-cell:/home/sabri/Projects/SycamoreProject/mySycamore/rlhf_main.ipynb#X20sZmlsZQ%3D%3D?line=0'>1</a>\u001b[0m pref_comparisons\u001b[39m.\u001b[39;49mtrain(\n\u001b[1;32m      <a href='vscode-notebook-cell:/home/sabri/Projects/SycamoreProject/mySycamore/rlhf_main.ipynb#X20sZmlsZQ%3D%3D?line=1'>2</a>\u001b[0m     total_timesteps\u001b[39m=\u001b[39;49m\u001b[39m5_000\u001b[39;49m,\n\u001b[1;32m      <a href='vscode-notebook-cell:/home/sabri/Projects/SycamoreProject/mySycamore/rlhf_main.ipynb#X20sZmlsZQ%3D%3D?line=2'>3</a>\u001b[0m     total_comparisons\u001b[39m=\u001b[39;49m\u001b[39m200\u001b[39;49m,\n\u001b[1;32m      <a href='vscode-notebook-cell:/home/sabri/Projects/SycamoreProject/mySycamore/rlhf_main.ipynb#X20sZmlsZQ%3D%3D?line=3'>4</a>\u001b[0m )\n",
      "File \u001b[0;32m~/Projects/SycamoreProject/mySycamore/rlhf_preference_comparisons.py:331\u001b[0m, in \u001b[0;36mtrain\u001b[0;34m(self, total_timesteps, total_comparisons)\u001b[0m\n\u001b[1;32m    328\u001b[0m print(\"Creating fragment pairs\")\n\u001b[1;32m    329\u001b[0m fragments = self.fragmenter(trajectories, num_pairs)\n\u001b[0;32m--> 331\u001b[0m # Gather synthetic or human preferences\n\u001b[1;32m    332\u001b[0m print(\"Gathering preferences\")\n\u001b[1;32m    333\u001b[0m preferences = self.preference_gatherer(fragments)\n",
      "File \u001b[0;32m~/Projects/SycamoreProject/mySycamore/rlhf_preference_gatherer.py:63\u001b[0m, in \u001b[0;36mSyntheticPreferenceGatherer.__call__\u001b[0;34m(self, trajectory_pairs)\u001b[0m\n\u001b[1;32m     60\u001b[0m reward1, reward2 \u001b[39m=\u001b[39m \u001b[39m0\u001b[39m, \u001b[39m0\u001b[39m\n\u001b[1;32m     62\u001b[0m \u001b[39m# Calculate reward1 for the first trajectory\u001b[39;00m\n\u001b[0;32m---> 63\u001b[0m \u001b[39mfor\u001b[39;00m transition \u001b[39min\u001b[39;00m trajectory1:\n\u001b[1;32m     64\u001b[0m     reward_features \u001b[39m=\u001b[39m transition\u001b[39m.\u001b[39mreward_features\n\u001b[1;32m     65\u001b[0m     action \u001b[39m=\u001b[39m reward_features[\u001b[39m0\u001b[39m]\n",
      "\u001b[0;31mTypeError\u001b[0m: 'NoneType' object is not iterable"
     ]
    }
   ],
   "source": [
    "pref_comparisons.train(\n",
    "    total_timesteps=5_000,\n",
    "    total_comparisons=200,\n",
    ")"
   ]
  },
  {
   "cell_type": "markdown",
   "metadata": {},
   "source": [
    "### 2. Agent Training on Learned Reward"
   ]
  },
  {
   "cell_type": "code",
   "execution_count": 4,
   "metadata": {},
   "outputs": [
    {
     "data": {
      "text/plain": [
       "<stable_baselines3.ppo.ppo.PPO at 0x7f59b0460f10>"
      ]
     },
     "execution_count": 4,
     "metadata": {},
     "output_type": "execute_result"
    }
   ],
   "source": [
    "# TODO\n",
    "\n",
    "# learner = PPO(\n",
    "#     seed=0,\n",
    "#     policy=FeedForward32Policy,\n",
    "#     policy_kwargs=dict(\n",
    "#         features_extractor_class=NormalizeFeaturesExtractor,\n",
    "#         features_extractor_kwargs=dict(normalize_class=RunningNorm),\n",
    "#     ),\n",
    "#     env=learned_reward_venv,\n",
    "#     batch_size=64,\n",
    "#     ent_coef=0.01,\n",
    "#     n_epochs=10,\n",
    "#     n_steps=2048 // learned_reward_venv.num_envs,\n",
    "#     clip_range=0.1,\n",
    "#     gae_lambda=0.95,\n",
    "#     gamma=0.97,\n",
    "#     learning_rate=2e-3,\n",
    "# )\n",
    "# learner.learn(1_000)  # Note: set to 100_000 to train a proficient expert"
   ]
  },
  {
   "cell_type": "markdown",
   "metadata": {},
   "source": [
    "### 3. Evaluate Agent"
   ]
  },
  {
   "cell_type": "code",
   "execution_count": 5,
   "metadata": {},
   "outputs": [
    {
     "name": "stdout",
     "output_type": "stream",
     "text": [
      "Reward: -1339 +/- 117\n"
     ]
    }
   ],
   "source": [
    "# TODO\n",
    "\n",
    "# from stable_baselines3.common.evaluation import evaluate_policy\n",
    "\n",
    "# n_eval_episodes = 10\n",
    "# reward_mean, reward_std = evaluate_policy(learner.policy, venv, n_eval_episodes)\n",
    "# reward_stderr = reward_std / np.sqrt(n_eval_episodes)\n",
    "# print(f\"Reward: {reward_mean:.0f} +/- {reward_stderr:.0f}\")"
   ]
  }
 ],
 "metadata": {
  "kernelspec": {
   "display_name": "sycamore",
   "language": "python",
   "name": "python3"
  },
  "language_info": {
   "codemirror_mode": {
    "name": "ipython",
    "version": 3
   },
   "file_extension": ".py",
   "mimetype": "text/x-python",
   "name": "python",
   "nbconvert_exporter": "python",
   "pygments_lexer": "ipython3",
   "version": "3.9.18"
  },
  "orig_nbformat": 4
 },
 "nbformat": 4,
 "nbformat_minor": 2
}
